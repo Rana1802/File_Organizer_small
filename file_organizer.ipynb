{
 "cells": [
  {
   "cell_type": "code",
   "execution_count": 1,
   "metadata": {},
   "outputs": [
    {
     "name": "stdout",
     "output_type": "stream",
     "text": [
      "Current Wrking directory :  c:\\Users\\anima\\OneDrive\\Documents\\python\\python_revise\\mini_project_1\n"
     ]
    },
    {
     "data": {
      "text/plain": [
       "'C:\\\\Users\\\\anima\\\\OneDrive\\\\Documents\\\\python\\\\python_revise\\\\mini_project_1\\\\New_Folder'"
      ]
     },
     "execution_count": 1,
     "metadata": {},
     "output_type": "execute_result"
    }
   ],
   "source": [
    "import os \n",
    "\n",
    "print('Current Wrking directory : ', os.getcwd())\n",
    "\n",
    "relative_path = os.path.realpath('New_Folder')\n",
    "relative_path"
   ]
  },
  {
   "cell_type": "code",
   "execution_count": 2,
   "metadata": {},
   "outputs": [
    {
     "name": "stdout",
     "output_type": "stream",
     "text": [
      "Found: app1 (1).zip\n",
      "Found: app1.mlapp\n",
      "Found: Documents\n",
      "Found: my_voice.wav\n",
      "Found: Plannogram.pdf\n"
     ]
    }
   ],
   "source": [
    "\n",
    "for entry in os.listdir('New_Folder'):\n",
    "    print(\"Found:\", entry)"
   ]
  },
  {
   "cell_type": "code",
   "execution_count": 4,
   "metadata": {},
   "outputs": [],
   "source": [
    "##printing all files inside New_Folder\n",
    "\n",
    "\n",
    "import os\n",
    "import shutil\n",
    "\n",
    "paths = \"New_Folder\"\n",
    "\n",
    "EXTENSION = {\n",
    "    'Images': ['.jpg', '.png', '.jpeg'],\n",
    "    'Videos': ['.mp4', '.mkv', '.avi'],\n",
    "    'Music': ['.mp3', '.wav', '.wma'],\n",
    "    'Documents': ['.txt', '.docs', '.pdf', '.md'],\n",
    "    'Codes': ['.py', '.ipynb', '.cpp', '.c'],\n",
    "}\n",
    "\n",
    "def classify(extension):\n",
    "    for category, ext_list in EXTENSION.items():\n",
    "        if extension in ext_list:\n",
    "            return category\n",
    "    return 'Others'\n"
   ]
  },
  {
   "cell_type": "code",
   "execution_count": 5,
   "metadata": {},
   "outputs": [],
   "source": [
    "## Extracting the extensions\n",
    "\n",
    "files = []\n",
    "for file in os.listdir(paths):\n",
    "    if  os.path.isfile(os.path.join(paths, file)):\n",
    "        files.append(file)\n",
    "\n",
    "\n",
    "for file in files:\n",
    "    full_path = os.path.join(paths, file)\n",
    "\n",
    "    #first extract the extensions\n",
    "    file_name, extension = os.path.splitext(file)\n",
    "\n",
    "    #check for the file...calls classify() function and defines the category\n",
    "    category = classify(extension)\n",
    "\n",
    "\n",
    "    destination_folder = os.path.join(paths, category)\n",
    "    os.makedirs(destination_folder, exist_ok=True)\n",
    "\n",
    "    destination_path = os.path.join(destination_folder, file)\n",
    "\n",
    "    try:\n",
    "        shutil.move(full_path, destination_path)\n",
    "        print(f\"Moved {file} ➜ {category}/\")\n",
    "    except Exception as e:\n",
    "        print(f\"Error moving {file}: {e}\")\n"
   ]
  },
  {
   "cell_type": "code",
   "execution_count": null,
   "metadata": {},
   "outputs": [],
   "source": []
  },
  {
   "cell_type": "code",
   "execution_count": 6,
   "metadata": {},
   "outputs": [
    {
     "name": "stdout",
     "output_type": "stream",
     "text": [
      "Others\n",
      "Others\n",
      "Music\n",
      "Documents\n"
     ]
    }
   ],
   "source": [
    "def classification(extension) :\n",
    "    for category, ext_list in EXTENSION.items():\n",
    "        if extension in ext_list:\n",
    "            return category\n",
    "    return 'Others'\n",
    "\n",
    "\n",
    "for i in extn :\n",
    "     category = classification(i)\n",
    "     print(category)\n"
   ]
  },
  {
   "cell_type": "code",
   "execution_count": null,
   "metadata": {},
   "outputs": [],
   "source": []
  },
  {
   "cell_type": "code",
   "execution_count": null,
   "metadata": {},
   "outputs": [],
   "source": []
  }
 ],
 "metadata": {
  "kernelspec": {
   "display_name": "Python 3",
   "language": "python",
   "name": "python3"
  },
  "language_info": {
   "codemirror_mode": {
    "name": "ipython",
    "version": 3
   },
   "file_extension": ".py",
   "mimetype": "text/x-python",
   "name": "python",
   "nbconvert_exporter": "python",
   "pygments_lexer": "ipython3",
   "version": "3.12.0"
  }
 },
 "nbformat": 4,
 "nbformat_minor": 2
}
